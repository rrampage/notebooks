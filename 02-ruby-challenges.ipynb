{
 "cells": [
  {
   "cell_type": "markdown",
   "metadata": {},
   "source": [
    "# Ruby - cryptohack.org challenges\n",
    "\n",
    "> Trying out nbdev!"
   ]
  },
  {
   "cell_type": "markdown",
   "metadata": {},
   "source": [
    "## Caesar cipher"
   ]
  },
  {
   "cell_type": "code",
   "execution_count": null,
   "metadata": {},
   "outputs": [
    {
     "data": {
      "text/plain": [
       "[\"ZPCCXC\", \"ILMU\", \"QUCYP\", \"KYPZJC\"]"
      ]
     },
     "execution_count": null,
     "metadata": {},
     "output_type": "execute_result"
    }
   ],
   "source": [
    "a = \"ZPCCXC ILMU QUCYP KYPZJC\".split(\" \")"
   ]
  },
  {
   "cell_type": "code",
   "execution_count": null,
   "metadata": {},
   "outputs": [
    {
     "data": {
      "text/plain": [
       ":cmap"
      ]
     },
     "execution_count": null,
     "metadata": {},
     "output_type": "execute_result"
    }
   ],
   "source": [
    "def cmap(c, i)\n",
    "  return ((((c.ord - 'A'.ord) + i) % 26) + 'A'.ord).chr\n",
    "end"
   ]
  },
  {
   "cell_type": "code",
   "execution_count": null,
   "metadata": {},
   "outputs": [
    {
     "name": "stdout",
     "output_type": "stream",
     "text": [
      "AQDDYD JMNV RVDZQ LZQAKD\n",
      "BREEZE KNOW SWEAR MARBLE\n",
      "CSFFAF LOPX TXFBS NBSCMF\n",
      "DTGGBG MPQY UYGCT OCTDNG\n",
      "EUHHCH NQRZ VZHDU PDUEOH\n",
      "FVIIDI ORSA WAIEV QEVFPI\n",
      "GWJJEJ PSTB XBJFW RFWGQJ\n",
      "HXKKFK QTUC YCKGX SGXHRK\n",
      "IYLLGL RUVD ZDLHY THYISL\n",
      "JZMMHM SVWE AEMIZ UIZJTM\n",
      "KANNIN TWXF BFNJA VJAKUN\n",
      "LBOOJO UXYG CGOKB WKBLVO\n",
      "MCPPKP VYZH DHPLC XLCMWP\n",
      "NDQQLQ WZAI EIQMD YMDNXQ\n",
      "OERRMR XABJ FJRNE ZNEOYR\n",
      "PFSSNS YBCK GKSOF AOFPZS\n",
      "QGTTOT ZCDL HLTPG BPGQAT\n",
      "RHUUPU ADEM IMUQH CQHRBU\n",
      "SIVVQV BEFN JNVRI DRISCV\n",
      "TJWWRW CFGO KOWSJ ESJTDW\n",
      "UKXXSX DGHP LPXTK FTKUEX\n",
      "VLYYTY EHIQ MQYUL GULVFY\n",
      "WMZZUZ FIJR NRZVM HVMWGZ\n",
      "XNAAVA GJKS OSAWN IWNXHA\n",
      "YOBBWB HKLT PTBXO JXOYIB\n"
     ]
    },
    {
     "data": {
      "text/plain": [
       "1...26"
      ]
     },
     "execution_count": null,
     "metadata": {},
     "output_type": "execute_result"
    }
   ],
   "source": [
    "(1...26).each { |i| puts(a.map{|w| w.chars.map{|c| cmap(c,i)}.join}.join(\" \"))}"
   ]
  },
  {
   "cell_type": "markdown",
   "metadata": {},
   "source": [
    "## Cryptohack.org challenges"
   ]
  },
  {
   "cell_type": "code",
   "execution_count": null,
   "metadata": {},
   "outputs": [
    {
     "data": {
      "text/plain": [
       "\"crypto{ASCII_pr1nt4bl3}\""
      ]
     },
     "execution_count": null,
     "metadata": {},
     "output_type": "execute_result"
    }
   ],
   "source": [
    "[99, 114, 121, 112, 116, 111, 123, 65, 83, 67, 73, 73, 95, 112, 114, 49, 110, 116, 52, 98, 108, 51, 125].map(&:chr).join"
   ]
  },
  {
   "cell_type": "code",
   "execution_count": null,
   "metadata": {},
   "outputs": [
    {
     "data": {
      "text/plain": [
       "\"63727970746f7b596f755f77696c6c5f62655f776f726b696e675f776974685f6865785f737472696e67735f615f6c6f747d\""
      ]
     },
     "execution_count": null,
     "metadata": {},
     "output_type": "execute_result"
    }
   ],
   "source": [
    "hs = \"63727970746f7b596f755f77696c6c5f62655f776f726b696e675f776974685f6865785f737472696e67735f615f6c6f747d\""
   ]
  },
  {
   "cell_type": "code",
   "execution_count": null,
   "metadata": {},
   "outputs": [
    {
     "data": {
      "text/plain": [
       "{\"0\"=>0, \"1\"=>1, \"2\"=>2, \"3\"=>3, \"4\"=>4, \"5\"=>5, \"6\"=>6, \"7\"=>7, \"8\"=>8, \"9\"=>9, \"a\"=>10, \"A\"=>10, \"b\"=>11, \"B\"=>11, \"c\"=>12, \"C\"=>12, \"d\"=>13, \"D\"=>13, \"e\"=>14, \"E\"=>14, \"f\"=>15, \"F\"=>15}"
      ]
     },
     "execution_count": null,
     "metadata": {},
     "output_type": "execute_result"
    }
   ],
   "source": [
    "HEX_MAP = {'0' => 0, '1' => 1, '2' => 2, '3' => 3, '4' => 4, '5' => 5, '6' => 6, '7' => 7, '8' => 8, '9' => 9, 'a' => 10, 'A' => 10, 'b' => 11, 'B' => 11, 'c' => 12, 'C' => 12, 'd' => 13, 'D' => 13, 'e' => 14, 'E' => 14, 'f' => 15, 'F' => 15}"
   ]
  },
  {
   "cell_type": "code",
   "execution_count": null,
   "metadata": {},
   "outputs": [
    {
     "data": {
      "text/plain": [
       ":hex_to_bytes"
      ]
     },
     "execution_count": null,
     "metadata": {},
     "output_type": "execute_result"
    }
   ],
   "source": [
    "def hex_to_bytes(s)\n",
    "  s.chars.each_slice(2).map{|c1,c2| HEX_MAP[c1] * 16 + HEX_MAP[c2]}\n",
    "end"
   ]
  },
  {
   "cell_type": "code",
   "execution_count": null,
   "metadata": {},
   "outputs": [
    {
     "data": {
      "text/plain": [
       ":hex_to_ascii"
      ]
     },
     "execution_count": null,
     "metadata": {},
     "output_type": "execute_result"
    }
   ],
   "source": [
    "def hex_to_ascii(s)\n",
    "  hex_to_bytes(s).map(&:chr).join\n",
    "end"
   ]
  },
  {
   "cell_type": "code",
   "execution_count": null,
   "metadata": {},
   "outputs": [
    {
     "data": {
      "text/plain": [
       "\"crypto{You_will_be_working_with_hex_strings_a_lot}\""
      ]
     },
     "execution_count": null,
     "metadata": {},
     "output_type": "execute_result"
    }
   ],
   "source": [
    "hex_to_ascii(hs)"
   ]
  },
  {
   "cell_type": "code",
   "execution_count": null,
   "metadata": {},
   "outputs": [
    {
     "data": {
      "text/plain": [
       "97"
      ]
     },
     "execution_count": null,
     "metadata": {},
     "output_type": "execute_result"
    }
   ],
   "source": [
    "'a'.ord"
   ]
  },
  {
   "cell_type": "code",
   "execution_count": null,
   "metadata": {},
   "outputs": [],
   "source": []
  }
 ],
 "metadata": {
  "kernelspec": {
   "display_name": "Ruby 2.7.0",
   "language": "ruby",
   "name": "ruby"
  }
 },
 "nbformat": 4,
 "nbformat_minor": 2
}
