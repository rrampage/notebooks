{
 "cells": [
  {
   "cell_type": "code",
   "execution_count": null,
   "metadata": {},
   "outputs": [
    {
     "data": {
      "text/plain": [
       "[\"ZPCCXC\", \"ILMU\", \"QUCYP\", \"KYPZJC\"]"
      ]
     },
     "execution_count": null,
     "metadata": {},
     "output_type": "execute_result"
    }
   ],
   "source": [
    "a = \"ZPCCXC ILMU QUCYP KYPZJC\".split(\" \")"
   ]
  },
  {
   "cell_type": "code",
   "execution_count": null,
   "metadata": {},
   "outputs": [
    {
     "data": {
      "text/plain": [
       ":cmap"
      ]
     },
     "execution_count": null,
     "metadata": {},
     "output_type": "execute_result"
    }
   ],
   "source": [
    "def cmap(c, i)\n",
    "  return ((((c.ord - 'A'.ord) + i) % 26) + 'A'.ord).chr\n",
    "end"
   ]
  },
  {
   "cell_type": "code",
   "execution_count": null,
   "metadata": {},
   "outputs": [
    {
     "name": "stdout",
     "output_type": "stream",
     "text": [
      "AQDDYD JMNV RVDZQ LZQAKD\n",
      "BREEZE KNOW SWEAR MARBLE\n",
      "CSFFAF LOPX TXFBS NBSCMF\n",
      "DTGGBG MPQY UYGCT OCTDNG\n",
      "EUHHCH NQRZ VZHDU PDUEOH\n",
      "FVIIDI ORSA WAIEV QEVFPI\n",
      "GWJJEJ PSTB XBJFW RFWGQJ\n",
      "HXKKFK QTUC YCKGX SGXHRK\n",
      "IYLLGL RUVD ZDLHY THYISL\n",
      "JZMMHM SVWE AEMIZ UIZJTM\n",
      "KANNIN TWXF BFNJA VJAKUN\n",
      "LBOOJO UXYG CGOKB WKBLVO\n",
      "MCPPKP VYZH DHPLC XLCMWP\n",
      "NDQQLQ WZAI EIQMD YMDNXQ\n",
      "OERRMR XABJ FJRNE ZNEOYR\n",
      "PFSSNS YBCK GKSOF AOFPZS\n",
      "QGTTOT ZCDL HLTPG BPGQAT\n",
      "RHUUPU ADEM IMUQH CQHRBU\n",
      "SIVVQV BEFN JNVRI DRISCV\n",
      "TJWWRW CFGO KOWSJ ESJTDW\n",
      "UKXXSX DGHP LPXTK FTKUEX\n",
      "VLYYTY EHIQ MQYUL GULVFY\n",
      "WMZZUZ FIJR NRZVM HVMWGZ\n",
      "XNAAVA GJKS OSAWN IWNXHA\n",
      "YOBBWB HKLT PTBXO JXOYIB\n"
     ]
    },
    {
     "data": {
      "text/plain": [
       "1...26"
      ]
     },
     "execution_count": null,
     "metadata": {},
     "output_type": "execute_result"
    }
   ],
   "source": [
    "(1...26).each { |i| puts(a.map{|w| w.chars.map{|c| cmap(c,i)}.join}.join(\" \"))}"
   ]
  },
  {
   "cell_type": "code",
   "execution_count": null,
   "metadata": {},
   "outputs": [
    {
     "name": "stdout",
     "output_type": "stream",
     "text": [
      "\u001b[1m\u001b[1;34mArray.methods\u001b[0m\u001b[0m: []  try_convert\n",
      "\u001b[1m\u001b[1;34mArray#methods\u001b[0m\u001b[0m: \n",
      "  &              concat       flatten!      pretty_print          shuffle!  \n",
      "  *              count        hash          pretty_print_cycle    size      \n",
      "  +              cycle        include?      product               slice     \n",
      "  -              deconstruct  index         push                  slice!    \n",
      "  <<             delete       insert        rassoc                sort      \n",
      "  <=>            delete_at    inspect       reject                sort!     \n",
      "  ==             delete_if    intersection  reject!               sort_by!  \n",
      "  []             difference   join          repeated_combination  sum       \n",
      "  []=            dig          keep_if       repeated_permutation  take      \n",
      "  all?           drop         last          replace               take_while\n",
      "  any?           drop_while   length        reverse               to_a      \n",
      "  append         each         map           reverse!              to_ary    \n",
      "  assoc          each_index   map!          reverse_each          to_h      \n",
      "  at             empty?       max           rindex                to_s      \n",
      "  bsearch        eql?         min           rotate                transpose \n",
      "  bsearch_index  fetch        minmax        rotate!               union     \n",
      "  clear          fill         none?         sample                uniq      \n",
      "  collect        filter       one?          select                uniq!     \n",
      "  collect!       filter!      pack          select!               unshift   \n",
      "  combination    find_index   permutation   shelljoin             values_at \n",
      "  compact        first        pop           shift                 zip       \n",
      "  compact!       flatten      prepend       shuffle               |         \n"
     ]
    }
   ],
   "source": [
    "ls Array"
   ]
  },
  {
   "cell_type": "code",
   "execution_count": null,
   "metadata": {},
   "outputs": [],
   "source": [
    "# Cryptohack.org challenges"
   ]
  },
  {
   "cell_type": "code",
   "execution_count": null,
   "metadata": {},
   "outputs": [
    {
     "data": {
      "text/plain": [
       "\"crypto{ASCII_pr1nt4bl3}\""
      ]
     },
     "execution_count": null,
     "metadata": {},
     "output_type": "execute_result"
    }
   ],
   "source": [
    "[99, 114, 121, 112, 116, 111, 123, 65, 83, 67, 73, 73, 95, 112, 114, 49, 110, 116, 52, 98, 108, 51, 125].map(&:chr).join"
   ]
  },
  {
   "cell_type": "code",
   "execution_count": null,
   "metadata": {},
   "outputs": [
    {
     "data": {
      "text/plain": [
       "\"63727970746f7b596f755f77696c6c5f62655f776f726b696e675f776974685f6865785f737472696e67735f615f6c6f747d\""
      ]
     },
     "execution_count": null,
     "metadata": {},
     "output_type": "execute_result"
    }
   ],
   "source": [
    "hs = \"63727970746f7b596f755f77696c6c5f62655f776f726b696e675f776974685f6865785f737472696e67735f615f6c6f747d\""
   ]
  },
  {
   "cell_type": "code",
   "execution_count": null,
   "metadata": {},
   "outputs": [
    {
     "data": {
      "text/plain": [
       "{\"0\"=>0, \"1\"=>1, \"2\"=>2, \"3\"=>3, \"4\"=>4, \"5\"=>5, \"6\"=>6, \"7\"=>7, \"8\"=>8, \"9\"=>9, \"a\"=>10, \"A\"=>10, \"b\"=>11, \"B\"=>11, \"c\"=>12, \"C\"=>12, \"d\"=>13, \"D\"=>13, \"e\"=>14, \"E\"=>14, \"f\"=>15, \"F\"=>15}"
      ]
     },
     "execution_count": null,
     "metadata": {},
     "output_type": "execute_result"
    }
   ],
   "source": [
    "HEX_MAP = {'0' => 0, '1' => 1, '2' => 2, '3' => 3, '4' => 4, '5' => 5, '6' => 6, '7' => 7, '8' => 8, '9' => 9, 'a' => 10, 'A' => 10, 'b' => 11, 'B' => 11, 'c' => 12, 'C' => 12, 'd' => 13, 'D' => 13, 'e' => 14, 'E' => 14, 'f' => 15, 'F' => 15}"
   ]
  },
  {
   "cell_type": "code",
   "execution_count": null,
   "metadata": {},
   "outputs": [
    {
     "data": {
      "text/plain": [
       ":hex_to_bytes"
      ]
     },
     "execution_count": null,
     "metadata": {},
     "output_type": "execute_result"
    }
   ],
   "source": [
    "def hex_to_bytes(s)\n",
    "  s.chars.each_slice(2).map{|c1,c2| HEX_MAP[c1] * 16 + HEX_MAP[c2]}\n",
    "end"
   ]
  },
  {
   "cell_type": "code",
   "execution_count": null,
   "metadata": {},
   "outputs": [
    {
     "data": {
      "text/plain": [
       ":hex_to_ascii"
      ]
     },
     "execution_count": null,
     "metadata": {},
     "output_type": "execute_result"
    }
   ],
   "source": [
    "def hex_to_ascii(s)\n",
    "  hex_to_bytes(s).map(&:chr).join\n",
    "end"
   ]
  },
  {
   "cell_type": "code",
   "execution_count": null,
   "metadata": {},
   "outputs": [
    {
     "data": {
      "text/plain": [
       "\"crypto{You_will_be_working_with_hex_strings_a_lot}\""
      ]
     },
     "execution_count": null,
     "metadata": {},
     "output_type": "execute_result"
    }
   ],
   "source": [
    "hex_to_ascii(hs)"
   ]
  },
  {
   "cell_type": "code",
   "execution_count": null,
   "metadata": {},
   "outputs": [
    {
     "data": {
      "text/plain": [
       "97"
      ]
     },
     "execution_count": null,
     "metadata": {},
     "output_type": "execute_result"
    }
   ],
   "source": [
    "'a'.ord"
   ]
  },
  {
   "cell_type": "code",
   "execution_count": null,
   "metadata": {},
   "outputs": [],
   "source": []
  }
 ],
 "metadata": {
  "kernelspec": {
   "display_name": "Ruby 2.7.0",
   "language": "ruby",
   "name": "ruby"
  }
 },
 "nbformat": 4,
 "nbformat_minor": 2
}
