{
 "cells": [
  {
   "cell_type": "markdown",
   "id": "f0cf44c1-49ad-46ec-b980-ab675cefe2a3",
   "metadata": {},
   "source": [
    "# Hello Go!\n",
    "\n",
    "> Using [gophernotes](https://github.com/gopherdata/gophernote) as Jupyter kernel"
   ]
  },
  {
   "cell_type": "code",
   "execution_count": null,
   "id": "4f98b41d-982c-419c-8f1e-998f17d1d55c",
   "metadata": {},
   "outputs": [],
   "source": [
    "import \"fmt\""
   ]
  },
  {
   "cell_type": "code",
   "execution_count": null,
   "id": "1ca48779-1080-495e-95ec-504fa19b23a0",
   "metadata": {},
   "outputs": [],
   "source": [
    "func fact(n int) int {\n",
    "    if n == 0 {\n",
    "        return 1\n",
    "    }\n",
    "    return n * fact(n-1)\n",
    "}"
   ]
  },
  {
   "cell_type": "code",
   "execution_count": null,
   "id": "9ef18e2b-336b-46a5-8694-2148a89d8463",
   "metadata": {},
   "outputs": [
    {
     "name": "stdout",
     "output_type": "stream",
     "text": [
      "479001600\n"
     ]
    },
    {
     "data": {
      "text/plain": [
       "10 <nil>"
      ]
     },
     "execution_count": null,
     "metadata": {},
     "output_type": "execute_result"
    }
   ],
   "source": [
    "fmt.Println(fact(12))"
   ]
  }
 ],
 "metadata": {
  "kernelspec": {
   "display_name": "Go",
   "language": "go",
   "name": "gophernotes"
  }
 },
 "nbformat": 4,
 "nbformat_minor": 5
}
